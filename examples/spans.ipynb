{
 "cells": [
  {
   "cell_type": "code",
   "execution_count": 1,
   "id": "d8d67a9c",
   "metadata": {},
   "outputs": [],
   "source": [
    "from medkit.core.text.span import Span, replace, remove, move, extract, insert"
   ]
  },
  {
   "cell_type": "code",
   "execution_count": 2,
   "id": "d2ea5c2d",
   "metadata": {},
   "outputs": [],
   "source": [
    "raw_text = (\n",
    "    \"Cher M. Dupond,\\nJ’ai vu en consultation (à mon cabinet le 2019-02-01) \"\n",
    "    \"Bertrand AGITE, né le 2008-02-25,\"\n",
    "    \"\\n\\npour une suspicion de troubles du spectre autistique.\\n(-) TDAH.\\n\"\n",
    ")\n",
    "text = raw_text\n",
    "spans = [Span(0, len(raw_text))]"
   ]
  },
  {
   "cell_type": "code",
   "execution_count": 3,
   "id": "8dafbb6a",
   "metadata": {},
   "outputs": [
    {
     "name": "stdout",
     "output_type": "stream",
     "text": [
      "Cher M Dupond, J’ai vu en consultation (à mon cabinet le 2019-02-01) Bertrand AGITE, né le 2008-02-25, pour une suspicion de troubles du spectre autistique. (-) TDAH.\n"
     ]
    }
   ],
   "source": [
    "import re\n",
    "\n",
    "# replace \"M.\" by \"M\n",
    "match = re.search(r\"M.\", text, re.M)\n",
    "text, spans = replace(text, spans, [match.span()], [\"M\"])\n",
    "\n",
    "# remove final endline\n",
    "match = re.search(r\"\\n\\Z\", text, re.M)\n",
    "text, spans = remove(text, spans, [match.span()])\n",
    "\n",
    "# replace line breaks with spaces\n",
    "ranges = [m.span() for m in re.finditer(r\"\\n+\", text, re.M)]\n",
    "text, spans = replace(text, spans, ranges, [\" \"] * len(ranges))\n",
    "print(text)"
   ]
  },
  {
   "cell_type": "code",
   "execution_count": 4,
   "id": "b0dd47c4",
   "metadata": {},
   "outputs": [
    {
     "name": "stdout",
     "output_type": "stream",
     "text": [
      "Cher M Dupond, J’ai vu en consultation (à mon cabinet le 2019-02-01) Bertrand AGITE, né le 2008-02-25, pour une suspicion de troubles du spectre autistique.\n",
      " (-) TDAH.\n"
     ]
    }
   ],
   "source": [
    "# extract sentences\n",
    "sentences = []\n",
    "for match in re.finditer(r\"[^\\.]+\\.\", text, re.M):\n",
    "    sentence_text, sentence_spans = extract(text, spans, [match.span()])\n",
    "    sentences.append((sentence_text, sentence_spans))\n",
    "\n",
    "text_1, spans_1 = sentences[0]\n",
    "text_2, spans_2 = sentences[1]\n",
    "print(text_1)\n",
    "print(text_2)"
   ]
  },
  {
   "cell_type": "code",
   "execution_count": 5,
   "id": "f26b69fc",
   "metadata": {},
   "outputs": [
    {
     "name": "stdout",
     "output_type": "stream",
     "text": [
      "Cher M Dupond, J’ai vu en consultation () Bertrand AGITE, né le 2008-02-25, pour une suspicion de troubles du spectre autistique ; à mon cabinet le 2019-02-01.\n"
     ]
    }
   ],
   "source": [
    "# move parenthesized text to end in 1st sentence\n",
    "match = re.search(r\" *\\((.*)\\)\", text_1, re.M)\n",
    "text_1, spans_1 = insert(text_1, spans_1, [len(text_1) - 1], [\" ; \"])\n",
    "text_1, spans_1 = move(text_1, spans_1, match.span(1), len(text_1) - 1)\n",
    "print(text_1)"
   ]
  },
  {
   "cell_type": "code",
   "execution_count": 6,
   "id": "2a4b99f1",
   "metadata": {},
   "outputs": [
    {
     "name": "stdout",
     "output_type": "stream",
     "text": [
      "Cher M Dupond, J’ai vu en consultation () Bertrand AGITE, né le 25/02/2008, pour une suspicion de troubles du spectre autistique ; à mon cabinet le 01/02/2019.\n"
     ]
    }
   ],
   "source": [
    "# reformat dates in 1st sentence\n",
    "matches = list(re.finditer(r\"\\d{4}-\\d{2}-\\d{2}\", text_1, re.M))\n",
    "ranges = [m.span() for m in matches]\n",
    "new_dates = [\n",
    "    m.group(0)[8:10] + \"/\" + m.group(0)[5:7] + \"/\" + m.group(0)[0:4]\n",
    "    for m in matches\n",
    "]\n",
    "text_1, spans_1 = replace(text_1, spans_1, ranges, new_dates)\n",
    "print(text_1)"
   ]
  },
  {
   "cell_type": "code",
   "execution_count": 7,
   "id": "8194350f",
   "metadata": {},
   "outputs": [
    {
     "name": "stdout",
     "output_type": "stream",
     "text": [
      " negatif TDAH.\n"
     ]
    }
   ],
   "source": [
    "# replace \"(-)\" by \"negatif\" in 2d sentence\n",
    "match = re.search(r\"\\(-\\)\", text_2, re.M)\n",
    "text_2, spans_2 = replace(text_2, spans_2, [match.span()], [\"negatif\"])\n",
    "print(text_2)"
   ]
  },
  {
   "cell_type": "code",
   "execution_count": 8,
   "id": "b35541cf",
   "metadata": {},
   "outputs": [],
   "source": [
    "# find person entity in 1st sentence\n",
    "match = re.search(r\"M [a-zA-Z]+\", text_1)\n",
    "person_text, person_spans = extract(\n",
    "    text_1, spans_1, [match.span()]\n",
    ")"
   ]
  },
  {
   "cell_type": "code",
   "execution_count": 9,
   "id": "a11077b7",
   "metadata": {},
   "outputs": [],
   "source": [
    "# find date entities in 1st sentence\n",
    "dates = []\n",
    "for match in re.finditer(r\"\\d{2}/\\d{2}/\\d{4}\", text_1):\n",
    "    date_text, date_spans = extract(text_1, spans_1, [match.span()])\n",
    "    dates.append((date_text, date_spans))"
   ]
  },
  {
   "cell_type": "code",
   "execution_count": 10,
   "id": "b22b8104",
   "metadata": {},
   "outputs": [
    {
     "name": "stdout",
     "output_type": "stream",
     "text": [
      "[('person', [Span(start=5, end=14)]), ('date', [Span(start=92, end=102)]), ('date', [Span(start=58, end=68)])]\n"
     ]
    }
   ],
   "source": [
    "from medkit.core.text.span import normalize_spans\n",
    "\n",
    "entities = []\n",
    "\n",
    "person_spans = normalize_spans(person_spans)\n",
    "entities.append((\"person\", person_spans))\n",
    "for _, date_spans in dates:\n",
    "    date_spans = normalize_spans(date_spans)\n",
    "    entities.append((\"date\", date_spans))\n",
    "print(entities)"
   ]
  },
  {
   "cell_type": "code",
   "execution_count": 11,
   "id": "438a3021",
   "metadata": {},
   "outputs": [
    {
     "data": {
      "text/html": [
       "<span class=\"tex2jax_ignore\"><div class=\"entities\" style=\"line-height: 2.5; direction: ltr\">Cher <mark class=\"entity\" style=\"background: #aa9cfc; padding: 0.45em 0.6em; margin: 0 0.25em; line-height: 1; border-radius: 0.35em;\">M Dupond,<span style=\"font-size: 0.8em; font-weight: bold; line-height: 1; border-radius: 0.35em; vertical-align: middle; margin-left: 0.5rem\">person</span></mark> J’ai vu en consultation (à mon cabinet le 2<mark class=\"entity\" style=\"background: #bfe1d9; padding: 0.45em 0.6em; margin: 0 0.25em; line-height: 1; border-radius: 0.35em;\">019-02-01)<span style=\"font-size: 0.8em; font-weight: bold; line-height: 1; border-radius: 0.35em; vertical-align: middle; margin-left: 0.5rem\">date</span></mark> Bertrand AGITE, né le 2<mark class=\"entity\" style=\"background: #bfe1d9; padding: 0.45em 0.6em; margin: 0 0.25em; line-height: 1; border-radius: 0.35em;\">008-02-25,<span style=\"font-size: 0.8em; font-weight: bold; line-height: 1; border-radius: 0.35em; vertical-align: middle; margin-left: 0.5rem\">date</span></mark> pour une suspicion de troubles du spectre autistique. (-) TDAH.</div></span>"
      ],
      "text/plain": [
       "<IPython.core.display.HTML object>"
      ]
     },
     "metadata": {},
     "output_type": "display_data"
    }
   ],
   "source": [
    "from spacy import displacy\n",
    "\n",
    "entities_data = [\n",
    "    {\"start\": span.start, \"end\": span.end, \"label\": label}\n",
    "    for label, spans in entities\n",
    "    for span in spans\n",
    "]\n",
    "entities_data = sorted(entities_data, key=lambda e: e[\"start\"])\n",
    "data = {\"text\": text, \"ents\": entities_data, \"uuid\": 0}\n",
    "displacy.render(data, manual=True, style=\"ent\", jupyter=True, minify=True)"
   ]
  }
 ],
 "metadata": {
  "kernelspec": {
   "display_name": "Python 3 (ipykernel)",
   "language": "python",
   "name": "python3"
  },
  "language_info": {
   "codemirror_mode": {
    "name": "ipython",
    "version": 3
   },
   "file_extension": ".py",
   "mimetype": "text/x-python",
   "name": "python",
   "nbconvert_exporter": "python",
   "pygments_lexer": "ipython3",
   "version": "3.8.10"
  }
 },
 "nbformat": 4,
 "nbformat_minor": 5
}
